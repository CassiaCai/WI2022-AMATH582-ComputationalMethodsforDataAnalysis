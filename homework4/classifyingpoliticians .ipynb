{
 "cells": [
  {
   "cell_type": "markdown",
   "id": "441e0606-4fa4-4fb8-afdf-6de04834d5fb",
   "metadata": {},
   "source": [
    "## Classifying Politicians\n",
    "Your goal is to test the performance of spectral clustering and a simple semi-supervised regression algorithm on the 1984 house voting records data set. Download the data set called house-votes-84.data, and the description house-votes-84.names. The data set consists of voting records of 435 members of the House on 16 bills. There are 267 members of the democratic party and 168 members of the republican party. The voting record of each house member on the 16 bills will be our input x while the corresponding output/class 𝑦 is that members party affiliation (republican or democrat embedded as ±1)."
   ]
  },
  {
   "cell_type": "markdown",
   "id": "dcd0d2c0-92e3-4a75-a8b0-b171e91b95a0",
   "metadata": {},
   "source": [
    "#### Task 1.\n",
    "\n",
    "Your first task is to import and preprocess the data set. Construct your output vector y by assigning labels {−1, +1} to members of different parties. Then construct the input vectors x𝑗 corresponding to the voting records of each member by replacing ’y’ votes with +1, ’n’ votes with −1 and ’?’ with 0. You do not need to center and normalize the data set in this case. This leads to a vector y ∈ R435 and input matrix 𝑋 ∈ R435×16. Note that we are using the sklearn convention for our 𝑋 matrix."
   ]
  },
  {
   "cell_type": "code",
   "execution_count": 661,
   "id": "07d3773b-afc4-45ec-b6eb-482d2ab65e82",
   "metadata": {},
   "outputs": [],
   "source": [
    "import numpy as np\n",
    "import matplotlib.pyplot as plt"
   ]
  },
  {
   "cell_type": "code",
   "execution_count": 662,
   "id": "87ec3f4a-2f7e-4fb3-800a-02bcb2af11a5",
   "metadata": {},
   "outputs": [],
   "source": [
    "votes = (np.loadtxt('house-votes-84.data', delimiter = ',', dtype =object, unpack=True)).T"
   ]
  },
  {
   "cell_type": "code",
   "execution_count": 663,
   "id": "e7785262-9883-4ea2-a634-21b96bf4d032",
   "metadata": {},
   "outputs": [],
   "source": [
    "# method 1\n",
    "temp_y = [item[0] for item in votes]\n",
    "\n",
    "d = dict([(y,x+1) for x,y in enumerate(sorted(set(temp_y)))])\n",
    "temp_y = [d[x] for x in temp_y]\n",
    "\n",
    "Y = [-1 if x==2 else x for x in temp_y]\n",
    "Y = np.asarray(Y)\n",
    "\n",
    "temp_x = np.array([item[1:] for item in votes])\n",
    "\n",
    "temp_x[ temp_x == '?' ] = 0 \n",
    "temp_x[ temp_x == 'y' ] = 1\n",
    "temp_x[ temp_x == 'n' ] = -1"
   ]
  },
  {
   "cell_type": "code",
   "execution_count": 664,
   "id": "0ff890a4-b407-43c0-8296-4e7fed3e35a2",
   "metadata": {},
   "outputs": [],
   "source": [
    "# method 2\n",
    "N = 435 \n",
    "XX = votes[:, 1:None].flatten()\n",
    "\n",
    "ind_y = np.argwhere(XX == 'y')\n",
    "ind_n = np.argwhere(XX == 'n')\n",
    "ind_q = np.argwhere(XX == '?')\n",
    " \n",
    "XX = np.zeros(XX.shape)\n",
    "\n",
    "XX[ind_y] = +1\n",
    "XX[ind_n] = -1\n",
    "XX[ind_q] = 0 \n",
    "\n",
    "XX = XX.reshape(N,16)\n",
    "\n",
    "YY = votes[:, 0]\n",
    "\n",
    "ind_d = np.argwhere(YY == 'democrat')\n",
    "ind_r = np.argwhere(YY == 'republican')\n",
    "\n",
    "XX_new = np.append(XX[ind_d],XX[ind_r], axis=None)\n",
    "XX_new = XX_new.reshape(N,16)\n",
    "Y_new = np.append(YY[ind_d], YY[ind_r], axis=None)\n",
    "\n",
    "d = dict([(y,x+1) for x,y in enumerate(sorted(set(Y_new)))])\n",
    "Y_new = [d[x] for x in Y_new]\n",
    "Y_new = [-1 if x==2 else x for x in Y_new]\n",
    "Y_new = np.asarray(Y_new)"
   ]
  },
  {
   "cell_type": "code",
   "execution_count": 704,
   "id": "23ed6460-6c33-4c2d-8cc6-17ce459e20a4",
   "metadata": {},
   "outputs": [
    {
     "data": {
      "text/plain": [
       "array([-1, -1, -1, -1, -1, -1, -1, -1, -1, -1, -1, -1, -1, -1, -1, -1, -1,\n",
       "       -1, -1, -1, -1, -1, -1, -1, -1, -1, -1, -1, -1, -1, -1, -1, -1, -1,\n",
       "       -1, -1, -1, -1, -1, -1, -1, -1, -1, -1, -1, -1, -1, -1, -1, -1, -1,\n",
       "       -1, -1, -1, -1, -1, -1, -1, -1, -1, -1, -1, -1, -1, -1, -1, -1, -1,\n",
       "       -1, -1, -1, -1, -1, -1, -1, -1, -1, -1, -1, -1, -1, -1, -1, -1, -1,\n",
       "       -1, -1, -1, -1, -1, -1, -1, -1, -1, -1, -1, -1, -1, -1, -1, -1, -1,\n",
       "       -1, -1, -1, -1, -1, -1, -1, -1, -1, -1, -1, -1, -1, -1, -1, -1, -1,\n",
       "       -1, -1, -1, -1, -1, -1, -1, -1, -1, -1, -1, -1, -1, -1, -1, -1, -1,\n",
       "       -1, -1, -1, -1, -1, -1, -1, -1, -1, -1, -1, -1, -1, -1, -1, -1, -1,\n",
       "       -1, -1, -1, -1, -1, -1, -1, -1, -1, -1, -1, -1, -1, -1, -1])"
      ]
     },
     "execution_count": 704,
     "metadata": {},
     "output_type": "execute_result"
    }
   ],
   "source": [
    "Y_new[:267]\n",
    "Y_new[267:]"
   ]
  },
  {
   "cell_type": "markdown",
   "id": "4f715627-ac05-45d4-bd52-e59ec779e765",
   "metadata": {},
   "source": [
    "#### Task 2. Spectral Clustering"
   ]
  },
  {
   "cell_type": "code",
   "execution_count": 694,
   "id": "8a6498eb-26c6-48e5-b8f4-fa95e706fe58",
   "metadata": {},
   "outputs": [],
   "source": [
    "import scipy as sp\n",
    "from sklearn.linear_model import Ridge\n",
    "from sklearn.linear_model import LinearRegression\n",
    "\n",
    "import scipy.spatial"
   ]
  },
  {
   "cell_type": "code",
   "execution_count": 695,
   "id": "50b7375a-c02a-4080-bc28-34dabfd7750f",
   "metadata": {},
   "outputs": [],
   "source": [
    "# ----- define weight function from HW Task 2 description\n",
    "def eta(t, l):\n",
    "    val = np.exp(-(1/(2*l**2))*t**2 )\n",
    "    return val"
   ]
  },
  {
   "cell_type": "code",
   "execution_count": 696,
   "id": "a41179ae-bf51-4bbd-84ee-269fc4c9771d",
   "metadata": {},
   "outputs": [],
   "source": [
    "# ----- define clustering accuracy function\n",
    "def calc_clustering_accuracy(total_data_points, comparison1, comparison2):\n",
    "    difference = comparison1 - comparison2\n",
    "    n_zeros = np.count_nonzero(difference==0)\n",
    "    misclassified = total_data_points-n_zeros\n",
    "    clustering_accuracy_ = 1-((misclassified)/total_data_points)  \n",
    "    if clustering_accuracy_ < 0.5:\n",
    "        clustering_accuracy_ = 1 - clustering_accuracy_\n",
    "    return clustering_accuracy_"
   ]
  },
  {
   "cell_type": "code",
   "execution_count": 697,
   "id": "ab77153c-0083-4df7-8b91-13200851a34f",
   "metadata": {},
   "outputs": [],
   "source": [
    "# ----- define function to construct unnnomarlized graph Laplacian on features\n",
    "def construct_graph_Laplacian(dist, l):\n",
    "# -----------------------------------\n",
    "# l is a hyperparameter of the Gaussian width\n",
    "# alternatively, can be defined as: l = 0.05*dist.mean() # l length scale of the kernel...also hyperparameter of Guassian width\n",
    "    W = eta(dist, l)\n",
    "    d = np.sum(W, axis=1) # degree vector\n",
    "    D = np.diag(d)\n",
    "    graph_Laplacian = D - W # unnormalized graph Laplacian\n",
    "    return graph_Laplacian"
   ]
  },
  {
   "cell_type": "code",
   "execution_count": 698,
   "id": "1772f008-8aac-46a7-8fcf-fa86d37629f1",
   "metadata": {},
   "outputs": [],
   "source": [
    "# dist = sp.spatial.distance_matrix( temp_x, temp_x ) # for both republicans and democrats\n",
    "dist = sp.spatial.distance_matrix( XX_new, XX_new)  # for sorted"
   ]
  },
  {
   "cell_type": "code",
   "execution_count": 699,
   "id": "3ceec438-f30b-4081-a4c2-136c5c945a29",
   "metadata": {},
   "outputs": [
    {
     "name": "stdout",
     "output_type": "stream",
     "text": [
      "0.8804597701149425\n"
     ]
    }
   ],
   "source": [
    "graph_Laplacian = construct_graph_Laplacian(dist, 1.16) # defined \n",
    "\n",
    "ll, VV = np.linalg.eigh(graph_Laplacian) # compute eigendecompositions \n",
    "idx = ll.argsort() # we need to sort the eigenvalues and vectors \n",
    "l = ll[idx]\n",
    "V = VV[:, idx]\n",
    "\n",
    "fiedler_vector = V[:,1]\n",
    "sign_fiedler_vector = np.sign(V[:,1])\n",
    "\n",
    "# clustering_accuracy_ = calc_clustering_accuracy(435, sign_fiedler_vector, Y) # for both republicans and democrats\n",
    "clustering_accuracy_ = calc_clustering_accuracy(435, sign_fiedler_vector, Y_new) # for sorted\n",
    "\n",
    "print(clustering_accuracy_)"
   ]
  },
  {
   "cell_type": "code",
   "execution_count": 714,
   "id": "a2ec4a72-2e47-40ca-b938-9cfd23cf7987",
   "metadata": {},
   "outputs": [
    {
     "data": {
      "image/png": "[encoded data removed]",
      "text/plain": [
       "<Figure size 1080x360 with 2 Axes>"
      ]
     },
     "metadata": {},
     "output_type": "display_data"
    }
   ],
   "source": [
    "fig = plt.figure(figsize=(15, 5))\n",
    "\n",
    "plt.subplot(1, 2, 1)\n",
    "\n",
    "plt.scatter(np.arange(267),V[:,1][:267], alpha=0.3, c='navy')\n",
    "plt.scatter(np.arange(267,435),V[:,1][267:435], alpha=0.3, c='red')\n",
    "\n",
    "plt.xlabel('index',fontsize=15)\n",
    "plt.ylabel('Fieldler vector value',fontsize=15)\n",
    "# plt.scatter(sigmas, clustering_accuracy_w_sigma, s=1.5,c='k')\n",
    "# plt.xlabel('sigma',fontsize=15)\n",
    "# plt.ylabel('clustering accuracy',fontsize=15)\n",
    "# plt.xticks(fontsize=14); plt.yticks(fontsize=14)\n",
    "# plt.ylim(0,1.); plt.xlim(0,4.0)\n",
    "# plt.plot(1.1599999999999995, 0.8804597701149426, marker=\"o\", markersize=8, markeredgecolor=\"red\", markerfacecolor=\"red\")\n",
    "# plt.plot(1.1599999999999995, 0.11954022988505753, marker=\"o\", markersize=8, markeredgecolor=\"blue\", markerfacecolor=\"blue\")\n",
    "# plt.text(1.5,0.8,'sigma = 1.16, accuracy = 0.88',fontsize=15)\n",
    "# plt.text(1.2,0.15,'sigma = 1.16, accuracy = 0.12',fontsize=15)\n",
    "plt.text(0,0.05,'(a)',fontsize=30)\n",
    "\n",
    "plt.subplot(1, 2, 2)\n",
    "plt.scatter(np.arange(267),sign_fiedler_vector[:267], alpha=0.3, c='navy', label = 'democrat')\n",
    "plt.scatter(np.arange(267,435),sign_fiedler_vector[267:435], alpha=0.3, c='red', label = 'republican')\n",
    "\n",
    "# plt.scatter(sigmas, clustering_accuracy_w_sigma_modified, s=1.5,c='k')\n",
    "# plt.plot(1.1599999999999995, 0.8804597701149426, marker=\"o\", markersize=8, markeredgecolor=\"green\", markerfacecolor=\"green\")\n",
    "# plt.text(1.5,0.83,'sigma = 1.16, accuracy = 0.88',fontsize=15)\n",
    "# plt.xlabel('sigma',fontsize=15)\n",
    "# plt.ylabel('clustering accuracy',fontsize=15)\n",
    "# plt.xticks(fontsize=14); plt.yticks(fontsize=14)\n",
    "# plt.ylim(0.5,1.); plt.xlim(0,4.0)\n",
    "plt.text(0,0.75,'(b)',fontsize=30)\n",
    "plt.xlabel('index',fontsize=15)\n",
    "plt.ylabel('sign of Fielder vector',fontsize=15)\n",
    "fig.savefig('newnewnew.pdf', dpi=fig.dpi)\n",
    "plt.legend(fontsize=15)\n",
    "plt.show()"
   ]
  },
  {
   "cell_type": "code",
   "execution_count": 689,
   "id": "702ee07c-f432-43a1-b68c-c72bbe576751",
   "metadata": {},
   "outputs": [],
   "source": [
    "dist = sp.spatial.distance_matrix( temp_x, temp_x ) # for both republicans and democrats\n",
    "\n",
    "W = eta(dist, 1.16)\n",
    "\n",
    "# plt.spy(W>= 1e-3)\n",
    "# plt.rcParams[\"axes.edgecolor\"] = 'k'\n",
    "# plt.rcParams[\"axes.linewidth\"]  = 1.25\n",
    "# fig.savefig('new.pdf', dpi=fig.dpi)\n",
    "\n",
    "# plt.show()"
   ]
  },
  {
   "cell_type": "code",
   "execution_count": 690,
   "id": "2bab27b0-6709-4558-990c-cd184f5f577d",
   "metadata": {},
   "outputs": [],
   "source": [
    "# plt.matshow(L[0:40,0:40])\n",
    "# plt.show()\n",
    "\n",
    "# # ------------------------------------ plot eigenvalues \n",
    "# fig, ax = plt.subplots(1,1, figsize=(6,6))\n",
    "# ax.plot(np.log(l[1:None]),c='navy')\n",
    "# ax.set_title('Unnormalized eigenvalues')\n",
    "# ax.set_xlabel('index')\n",
    "# ax.set_ylabel('$\\lambda$')\n",
    "# fig.savefig('new.pdf', dpi=fig.dpi)\n",
    "# plt.show()\n",
    "\n",
    "# # ------------------------------------ plot fiedler vector\n",
    "# plt.scatter(np.arange(435),fiedler_vector, c='navy', s= 30, alpha=0.5)\n",
    "# plt.show()"
   ]
  },
  {
   "cell_type": "markdown",
   "id": "531a2f98-cb7b-4f7a-a712-3b3c6e5b33e0",
   "metadata": {},
   "source": [
    "Change the parameter 𝜎 in the range (0, 4] and plot accuracy as a function of 𝜎. Let 𝜎* denote the optimal variance parameter achieving maximum clustering accuracy. Discuss your findings."
   ]
  },
  {
   "cell_type": "code",
   "execution_count": 606,
   "id": "009262a8-4068-4396-a318-8dc88e50d150",
   "metadata": {},
   "outputs": [],
   "source": [
    "dist = sp.spatial.distance_matrix( temp_x, temp_x ) # for both republicans and democrats\n",
    "# dist = sp.spatial.distance_matrix( XX_new, XX_new)  # for sorted"
   ]
  },
  {
   "cell_type": "code",
   "execution_count": 607,
   "id": "2737ce74-a1b5-4e07-aa03-534a898433da",
   "metadata": {},
   "outputs": [
    {
     "name": "stdout",
     "output_type": "stream",
     "text": [
      "CPU times: user 50.3 s, sys: 6.98 s, total: 57.3 s\n",
      "Wall time: 8.48 s\n"
     ]
    }
   ],
   "source": [
    "%%time\n",
    "\n",
    "clustering_accuracy_w_sigma = []\n",
    "clustering_accuracy_w_sigma_modified = []\n",
    "\n",
    "sigmas = np.arange(0.1,4,0.01)\n",
    "\n",
    "for l in sigmas:\n",
    "    L = construct_graph_Laplacian(dist, l)\n",
    "\n",
    "    ll, VV = np.linalg.eigh(L) # compute eigendecompositions \n",
    "\n",
    "    idx = ll.argsort() # we need to sort the eigenvalues and vectors \n",
    "    l = ll[idx]\n",
    "    V = VV[:, idx]\n",
    "    \n",
    "    fiedler_vector = V[:,1]\n",
    "    sign_fiedler_vector = np.sign(V[:,1])\n",
    "    \n",
    "    clustering_accuracy_ = calc_clustering_accuracy(435, sign_fiedler_vector, Y)\n",
    "    clustering_accuracy_w_sigma_modified.append(clustering_accuracy_)\n",
    "    # clustering_accuracy_ = calc_clustering_accuracy(435, sign_fiedler_vector, Y_new)\n",
    "\n",
    "    difference = sign_fiedler_vector - Y\n",
    "    n_zeros = np.count_nonzero(difference==0)\n",
    "    misclassified = 435-n_zeros\n",
    "    clustering_accuracy_ = 1-((misclassified)/435) \n",
    "    # if clustering_accuracy_ < 0.5:\n",
    "    #     clustering_accuracy_ = 1 - clustering_accuracy_\n",
    "\n",
    "    clustering_accuracy_w_sigma.append(clustering_accuracy_)"
   ]
  },
  {
   "cell_type": "code",
   "execution_count": 608,
   "id": "b1230b10-f62b-41d5-9387-d568cab8de08",
   "metadata": {},
   "outputs": [
    {
     "name": "stdout",
     "output_type": "stream",
     "text": [
      "0.8804597701149426\n"
     ]
    }
   ],
   "source": [
    "print(np.nanmax(clustering_accuracy_w_sigma))"
   ]
  },
  {
   "cell_type": "code",
   "execution_count": 609,
   "id": "34e451bd-cb09-4c97-ac0a-0a8c2db5506a",
   "metadata": {},
   "outputs": [],
   "source": [
    "import seaborn as sns\n",
    "sns.set_theme()\n"
   ]
  },
  {
   "cell_type": "code",
   "execution_count": 691,
   "id": "040194d3-f897-4451-91e1-8548fe70d907",
   "metadata": {},
   "outputs": [],
   "source": [
    "# fig = plt.figure(figsize=(15, 5))\n",
    "\n",
    "# plt.subplot(1, 2, 1)\n",
    "# plt.scatter(sigmas, clustering_accuracy_w_sigma, s=1.5,c='k')\n",
    "# plt.xlabel('sigma',fontsize=15)\n",
    "# plt.ylabel('clustering accuracy',fontsize=15)\n",
    "# plt.xticks(fontsize=14); plt.yticks(fontsize=14)\n",
    "# plt.ylim(0,1.); plt.xlim(0,4.0)\n",
    "# plt.plot(1.1599999999999995, 0.8804597701149426, marker=\"o\", markersize=8, markeredgecolor=\"red\", markerfacecolor=\"red\")\n",
    "# plt.plot(1.1599999999999995, 0.11954022988505753, marker=\"o\", markersize=8, markeredgecolor=\"blue\", markerfacecolor=\"blue\")\n",
    "# plt.text(1.5,0.8,'sigma = 1.16, accuracy = 0.88',fontsize=15)\n",
    "# plt.text(1.2,0.15,'sigma = 1.16, accuracy = 0.12',fontsize=15)\n",
    "# plt.text(0.1,0.85,'(a)',fontsize=30)\n",
    "\n",
    "# plt.subplot(1, 2, 2)\n",
    "# plt.scatter(sigmas, clustering_accuracy_w_sigma_modified, s=1.5,c='k')\n",
    "# plt.plot(1.1599999999999995, 0.8804597701149426, marker=\"o\", markersize=8, markeredgecolor=\"green\", markerfacecolor=\"green\")\n",
    "# plt.text(1.5,0.83,'sigma = 1.16, accuracy = 0.88',fontsize=15)\n",
    "# plt.xlabel('sigma',fontsize=15)\n",
    "# plt.ylabel('clustering accuracy',fontsize=15)\n",
    "# plt.xticks(fontsize=14); plt.yticks(fontsize=14)\n",
    "# plt.ylim(0.5,1.); plt.xlim(0,4.0)\n",
    "# plt.text(0.1,0.925,'(b)',fontsize=30)\n",
    "\n",
    "# fig.savefig('temp.pdf', dpi=fig.dpi)\n",
    "\n",
    "# plt.show()"
   ]
  },
  {
   "cell_type": "code",
   "execution_count": 612,
   "id": "a82f98ab-df2f-4e72-b3f9-9064dc9d177e",
   "metadata": {},
   "outputs": [
    {
     "name": "stdout",
     "output_type": "stream",
     "text": [
      "3.3799999999999986\n",
      "0.8804597701149426\n"
     ]
    }
   ],
   "source": [
    "cond_1 = sigmas > 2\n",
    "res = sigmas[cond_1]\n",
    "\n",
    "print(res[np.argmax(clustering_accuracy_w_sigma)])\n",
    "print(np.nanmax(clustering_accuracy_w_sigma))"
   ]
  },
  {
   "cell_type": "code",
   "execution_count": 613,
   "id": "d630fe70-1fc6-4094-a0d1-5afa1ae31ab3",
   "metadata": {},
   "outputs": [
    {
     "name": "stdout",
     "output_type": "stream",
     "text": [
      "3.0699999999999985\n",
      "0.11954022988505753\n"
     ]
    }
   ],
   "source": [
    "print(res[np.argmin(clustering_accuracy_w_sigma)])\n",
    "print(np.nanmin(clustering_accuracy_w_sigma))"
   ]
  },
  {
   "cell_type": "code",
   "execution_count": 556,
   "id": "b7cb3a9a-afb2-4fce-82c1-94470fb02462",
   "metadata": {},
   "outputs": [
    {
     "data": {
      "text/plain": [
       "0.8804597701149425"
      ]
     },
     "execution_count": 556,
     "metadata": {},
     "output_type": "execute_result"
    }
   ],
   "source": [
    "1- 0.11954022988505753"
   ]
  },
  {
   "cell_type": "markdown",
   "id": "a58ea029-3d64-41aa-b78b-8844027d33a2",
   "metadata": {},
   "source": [
    "#### Task 3.Semi-supervised Learning\n",
    "\n",
    "Now consider the unnormalized Laplacian from Step 2 with the optimal parameter 𝜎* that you picked."
   ]
  },
  {
   "cell_type": "code",
   "execution_count": 682,
   "id": "bad1f70b-c0dd-4d72-8852-ee20096448e3",
   "metadata": {},
   "outputs": [],
   "source": [
    "# optimal_sigma = res[np.argmax(clustering_accuracy_w_sigma)]\n",
    "# optimal_sigma = 1.4699999999999993\n",
    "# optimal_sigma = 1.1599999999999995\n",
    "optimal_sigma = 3.43\n"
   ]
  },
  {
   "cell_type": "code",
   "execution_count": 683,
   "id": "05bbb6fb-c9c8-4672-a798-bbc9d495d451",
   "metadata": {},
   "outputs": [],
   "source": [
    "dist = sp.spatial.distance_matrix( temp_x, temp_x ) # for both republicans and democrats"
   ]
  },
  {
   "cell_type": "code",
   "execution_count": 684,
   "id": "8cf745fc-4a69-4da7-aaec-6a0721c657f2",
   "metadata": {},
   "outputs": [],
   "source": [
    "L = construct_graph_Laplacian(dist, optimal_sigma)\n",
    "\n",
    "ll, VV = np.linalg.eigh(L) # compute eigendecompositions \n",
    "idx = ll.argsort() # we need to sort the eigenvalues and vectors \n",
    "l = ll[idx]\n",
    "V = VV[:, idx]"
   ]
  },
  {
   "cell_type": "code",
   "execution_count": 685,
   "id": "6c0f59ce-e70c-4f19-821c-afb2006c4153",
   "metadata": {},
   "outputs": [],
   "source": [
    "J_list = [5, 10, 20, 40]\n",
    "M_list = [2, 3, 4, 5, 6]"
   ]
  },
  {
   "cell_type": "code",
   "execution_count": 687,
   "id": "4613586a-49f3-4d55-abdc-6b3b55013af0",
   "metadata": {},
   "outputs": [
    {
     "name": "stdout",
     "output_type": "stream",
     "text": [
      "2 5 86.4367816091954\n",
      "3 5 90.11494252873563\n",
      "4 5 55.86206896551724\n",
      "5 5 53.333333333333336\n",
      "6 5 52.18390804597701\n",
      "2 10 86.4367816091954\n",
      "3 10 85.51724137931033\n",
      "4 10 93.5632183908046\n",
      "5 10 66.66666666666667\n",
      "6 10 54.252873563218394\n",
      "2 20 87.816091954023\n",
      "3 20 89.65517241379311\n",
      "4 20 90.3448275862069\n",
      "5 20 90.11494252873563\n",
      "6 20 88.96551724137932\n",
      "2 40 87.816091954023\n",
      "3 40 88.96551724137932\n",
      "4 40 91.0344827586207\n",
      "5 40 91.95402298850574\n",
      "6 40 90.3448275862069\n"
     ]
    }
   ],
   "source": [
    "clustering_accuracy_list = []; new_m_list = []; new_j_list = []\n",
    "\n",
    "for j_ in J_list:\n",
    "    for m_ in M_list:\n",
    "        submatrix_A = V[0:j_, 0:m_]\n",
    "        b = Y[:j_]\n",
    "        SSLRidge = Ridge(alpha = 1e-8, fit_intercept=False)\n",
    "        SSLRidge.fit(submatrix_A, b)\n",
    "        \n",
    "        beta = np.transpose(SSLRidge.coef_)\n",
    "        A = V[:, 0:m_]\n",
    "        yhat = np.sign(SSLRidge.intercept_ +  np.dot(A, beta))\n",
    "        clustering_accuracy_ = calc_clustering_accuracy(435, yhat, Y)\n",
    "        \n",
    "        clustering_accuracy_list.append(clustering_accuracy_)\n",
    "        print(m_, j_, clustering_accuracy_*100)\n",
    "        new_m_list.append(m_)\n",
    "        new_j_list.append(j_)"
   ]
  },
  {
   "cell_type": "code",
   "execution_count": 626,
   "id": "6d4f2838-eaac-4931-898a-c31d505db531",
   "metadata": {},
   "outputs": [
    {
     "name": "stdout",
     "output_type": "stream",
     "text": [
      "0.9264367816091954\n",
      "0.5195402298850574\n",
      "0.8089655172413794\n",
      "0.14707596116908978\n"
     ]
    }
   ],
   "source": [
    "print(np.nanmax(clustering_accuracy_list))\n",
    "print(np.nanmin(clustering_accuracy_list))\n",
    "print(np.nanmean(clustering_accuracy_list))\n",
    "print(np.nanstd(clustering_accuracy_list))"
   ]
  },
  {
   "cell_type": "code",
   "execution_count": null,
   "id": "908c31ad-4f3f-4ae8-b638-a49d08254827",
   "metadata": {},
   "outputs": [],
   "source": [
    "0.9264367816091954\n",
    "0.5195402298850574\n",
    "0.8089655172413794\n",
    "0.14707596116908978"
   ]
  },
  {
   "cell_type": "code",
   "execution_count": null,
   "id": "d6b5a775-1045-477c-9c64-1ae5e37380a8",
   "metadata": {},
   "outputs": [],
   "source": [
    "# different number of sigmas work better for differnet\n",
    "# This is challenge. Tuning all these parameters at once. This optimal value is not optiaml in these \n"
   ]
  },
  {
   "cell_type": "markdown",
   "id": "cb52808d-d0a4-4940-884e-22fe37a39515",
   "metadata": {},
   "source": [
    "#### Notes from office hours\n",
    "Include an explanation of constructing the similarity graph, graph Laplacians, writing about spectral clustering, how you are using the eigenvectors as your feature map, write about semi-supervised learning a bit (you have some labels but are extending it to the full dataset), talked about linear regression --> cite sources for this, no need to include the equation again but need to mention "
   ]
  },
  {
   "cell_type": "code",
   "execution_count": 151,
   "id": "9400d09c-04e5-4edb-af87-8e3d8dea0c20",
   "metadata": {},
   "outputs": [],
   "source": [
    "N = 435 \n",
    "XX = votes[:, 1:None].flatten()\n",
    "\n",
    "ind_y = np.argwhere(XX == 'y')\n",
    "ind_n = np.argwhere(XX == 'n')\n",
    "ind_q = np.argwhere(XX == '?')\n",
    " \n",
    "XX = np.zeros(XX.shape)\n",
    "\n",
    "XX[ind_y] = +1\n",
    "XX[ind_n] = -1\n",
    "XX[ind_q] = 0 \n",
    "\n",
    "XX = XX.reshape(N,16)\n",
    "\n",
    "YY = votes[:, 0]\n",
    "\n",
    "ind_d = np.argwhere(YY == 'democrat')\n",
    "ind_r = np.argwhere(YY == 'republican')\n",
    "\n",
    "Y = np.append(YY[ind_d], YY[ind_r], axis=None)"
   ]
  },
  {
   "cell_type": "code",
   "execution_count": 152,
   "id": "599ecafb-450f-428b-be7d-4592ee80c709",
   "metadata": {},
   "outputs": [],
   "source": [
    "d = dict([(y,x+1) for x,y in enumerate(sorted(set(Y)))])\n",
    "Y = [d[x] for x in Y]\n",
    "Y = [-1 if x==2 else x for x in Y]\n",
    "Y = np.asarray(Y)"
   ]
  },
  {
   "cell_type": "code",
   "execution_count": 112,
   "id": "afbae92a-0d23-4fbd-b84f-b996b7113999",
   "metadata": {},
   "outputs": [],
   "source": [
    "sign_fiedler_vector_sorted = np.append(sign_fiedler_vector[ind_d], sign_fiedler_vector[ind_r], axis=None)"
   ]
  },
  {
   "cell_type": "code",
   "execution_count": 692,
   "id": "0917ebd3-4bbb-490b-8b8e-7e9279936d7d",
   "metadata": {},
   "outputs": [],
   "source": [
    "# fig = plt.figure(figsize=(10, 5))\n",
    "\n",
    "# plt.subplot(1, 2, 1)\n",
    "# plt.plot(Y,'.',alpha=0.3)\n",
    "\n",
    "# plt.subplot(1, 2, 2)\n",
    "# plt.plot(sign_fiedler_vector_sorted,'.')\n",
    "\n",
    "# plt.show()"
   ]
  },
  {
   "cell_type": "code",
   "execution_count": null,
   "id": "00e8fce3-1dd6-4ce9-ad09-77198e9e1a68",
   "metadata": {},
   "outputs": [],
   "source": []
  }
 ],
 "metadata": {
  "kernelspec": {
   "display_name": "firstEnv",
   "language": "python",
   "name": "firstenv"
  },
  "language_info": {
   "codemirror_mode": {
    "name": "ipython",
    "version": 3
   },
   "file_extension": ".py",
   "mimetype": "text/x-python",
   "name": "python",
   "nbconvert_exporter": "python",
   "pygments_lexer": "ipython3",
   "version": "3.8.5"
  }
 },
 "nbformat": 4,
 "nbformat_minor": 5
}
