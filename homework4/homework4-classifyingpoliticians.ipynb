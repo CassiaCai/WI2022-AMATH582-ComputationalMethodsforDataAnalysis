{
 "cells": [
  {
   "cell_type": "markdown",
   "id": "441e0606-4fa4-4fb8-afdf-6de04834d5fb",
   "metadata": {},
   "source": [
    "## Classifying Politicians\n",
    "Your goal is to test the performance of spectral clustering and a simple semi-supervised regression algorithm on the 1984 house voting records data set. Download the data set called house-votes-84.data, and the description house-votes-84.names. The data set consists of voting records of 435 members of the House on 16 bills. There are 267 members of the democratic party and 168 members of the republican party. The voting record of each house member on the 16 bills will be our input x while the corresponding output/class 𝑦 is that members party affiliation (republican or democrat embedded as ±1)."
   ]
  },
  {
   "cell_type": "markdown",
   "id": "dcd0d2c0-92e3-4a75-a8b0-b171e91b95a0",
   "metadata": {},
   "source": [
    "#### Task 1\n",
    "\n",
    "Your first task is to import and preprocess the data set. Construct your output vector y by assigning labels {−1, +1} to members of different parties. Then construct the input vectors x𝑗 corresponding to the voting records of each member by replacing ’y’ votes with +1, ’n’ votes with −1 and ’?’ with 0. You do not need to center and normalize the data set in this case. This leads to a vector y ∈ R435 and input matrix 𝑋 ∈ R435×16. Note that we are using the sklearn convention for our 𝑋 matrix."
   ]
  },
  {
   "cell_type": "code",
   "execution_count": 181,
   "id": "07d3773b-afc4-45ec-b6eb-482d2ab65e82",
   "metadata": {},
   "outputs": [],
   "source": [
    "import numpy as np\n",
    "import matplotlib.pyplot as plt"
   ]
  },
  {
   "cell_type": "code",
   "execution_count": 182,
   "id": "87ec3f4a-2f7e-4fb3-800a-02bcb2af11a5",
   "metadata": {},
   "outputs": [],
   "source": [
    "votes = (np.loadtxt('house-votes-84.data', delimiter = ',', dtype =object, unpack=True)).T"
   ]
  },
  {
   "cell_type": "code",
   "execution_count": 183,
   "id": "e7785262-9883-4ea2-a634-21b96bf4d032",
   "metadata": {},
   "outputs": [],
   "source": [
    "temp_y = [item[0] for item in votes]\n",
    "\n",
    "d = dict([(y,x+1) for x,y in enumerate(sorted(set(temp_y)))])\n",
    "temp_y = [d[x] for x in temp_y]\n",
    "\n",
    "Y = [-1 if x==2 else x for x in temp_y]\n",
    "Y = np.asarray(Y)"
   ]
  },
  {
   "cell_type": "code",
   "execution_count": 184,
   "id": "46301f60-dbcb-4696-8da0-0fa280600d8d",
   "metadata": {},
   "outputs": [],
   "source": [
    "temp_x = np.array([item[1:] for item in votes])\n",
    "\n",
    "temp_x[ temp_x == '?' ] = 0 \n",
    "temp_x[ temp_x == 'y' ] = 1\n",
    "temp_x[ temp_x == 'n' ] = -1"
   ]
  },
  {
   "cell_type": "markdown",
   "id": "4f715627-ac05-45d4-bd52-e59ec779e765",
   "metadata": {},
   "source": [
    "#### Spectral Clustering"
   ]
  },
  {
   "cell_type": "code",
   "execution_count": 185,
   "id": "8a6498eb-26c6-48e5-b8f4-fa95e706fe58",
   "metadata": {},
   "outputs": [],
   "source": [
    "import scipy as sp\n",
    "from sklearn.linear_model import Ridge\n",
    "import scipy.spatial"
   ]
  },
  {
   "cell_type": "code",
   "execution_count": 186,
   "id": "50b7375a-c02a-4080-bc28-34dabfd7750f",
   "metadata": {},
   "outputs": [],
   "source": [
    "# ----- define weight function from HW Task 2 description\n",
    "def eta(t, l):\n",
    "    val = np.exp(-(1/(2*l**2))*t**2 )\n",
    "    return val"
   ]
  },
  {
   "cell_type": "code",
   "execution_count": 197,
   "id": "a41179ae-bf51-4bbd-84ee-269fc4c9771d",
   "metadata": {},
   "outputs": [],
   "source": [
    "# ----- define clustering accuracy function\n",
    "def calc_clustering_accuracy(total_data_points, comparison1, comparison2):\n",
    "    difference = comparison1 - comparison2\n",
    "    n_zeros = np.count_nonzero(difference==0)\n",
    "    misclassified = total_data_points-n_zeros\n",
    "    clustering_accuracy_ = (misclassified)/total_data_points  \n",
    "    return clustering_accuracy_"
   ]
  },
  {
   "cell_type": "code",
   "execution_count": 210,
   "id": "ab77153c-0083-4df7-8b91-13200851a34f",
   "metadata": {},
   "outputs": [],
   "source": [
    "# ----- define function to construct unnnomarlized graph Laplacian on features\n",
    "def construct_graph_Laplacian(dist, l):\n",
    "# -----------------------------------\n",
    "# l is a hyperparameter of the Gaussian width\n",
    "# alternatively, can be defined as: l = 0.05*dist.mean() # l length scale of the kernel...also hyperparameter of Guassian width\n",
    "    W = eta(dist, l)\n",
    "    d = np.sum(W, axis=1) # degree vector\n",
    "    D = np.diag(d)\n",
    "    graph_Laplacian = D - W # unnormalized graph Laplacian\n",
    "    return graph_Laplacian"
   ]
  },
  {
   "cell_type": "code",
   "execution_count": 211,
   "id": "1772f008-8aac-46a7-8fcf-fa86d37629f1",
   "metadata": {},
   "outputs": [],
   "source": [
    "dist = sp.spatial.distance_matrix( temp_x, temp_x ) "
   ]
  },
  {
   "cell_type": "code",
   "execution_count": 212,
   "id": "3ceec438-f30b-4081-a4c2-136c5c945a29",
   "metadata": {},
   "outputs": [
    {
     "name": "stdout",
     "output_type": "stream",
     "text": [
      "0.12643678160919541\n"
     ]
    }
   ],
   "source": [
    "graph_Laplacian = construct_graph_Laplacian(dist, 1.25) # defined \n",
    "\n",
    "ll, VV = np.linalg.eigh(graph_Laplacian) # compute eigendecompositions \n",
    "idx = ll.argsort() # we need to sort the eigenvalues and vectors \n",
    "l = ll[idx]\n",
    "V = VV[:, idx]\n",
    "\n",
    "fiedler_vector = V[:,1]\n",
    "sign_fiedler_vector = np.sign(V[:,1])\n",
    "\n",
    "clustering_accuracy_ = calc_clustering_accuracy(435, sign_fiedler_vector, Y)\n",
    "print(clustering_accuracy_)"
   ]
  },
  {
   "cell_type": "code",
   "execution_count": 201,
   "id": "2bab27b0-6709-4558-990c-cd184f5f577d",
   "metadata": {},
   "outputs": [],
   "source": [
    "# plt.matshow(L[0:40,0:40])\n",
    "# plt.show()\n",
    "\n",
    "# ------------------------------------ plot eigenvalues \n",
    "# fig, ax = plt.subplots(1,1, figsize=(6,6))\n",
    "# ax.plot(np.log(l[1:None]),c='navy')\n",
    "# ax.set_title('Unnormalized eigenvalues')\n",
    "# ax.set_xlabel('index')\n",
    "# ax.set_ylabel('$\\lambda$')\n",
    "# plt.show()\n",
    "\n",
    "# ------------------------------------ plot fiedler vector\n",
    "# plt.scatter(np.arange(435),fiedler_vector, c='navy', s= 30, alpha=0.5)\n",
    "# plt.show()"
   ]
  },
  {
   "cell_type": "markdown",
   "id": "531a2f98-cb7b-4f7a-a712-3b3c6e5b33e0",
   "metadata": {},
   "source": [
    "Change the parameter 𝜎 in the range (0, 4] and plot accuracy as a function of 𝜎. Let 𝜎* denote the optimal variance parameter achieving maximum clustering accuracy. Discuss your findings."
   ]
  },
  {
   "cell_type": "code",
   "execution_count": 213,
   "id": "2737ce74-a1b5-4e07-aa03-534a898433da",
   "metadata": {},
   "outputs": [
    {
     "name": "stdout",
     "output_type": "stream",
     "text": [
      "CPU times: user 44.2 s, sys: 3.82 s, total: 48.1 s\n",
      "Wall time: 6.25 s\n"
     ]
    }
   ],
   "source": [
    "%%time\n",
    "\n",
    "clustering_accuracy_w_sigma = []\n",
    "sigmas = np.arange(0.01,4,0.01)\n",
    "\n",
    "for l in sigmas:\n",
    "    L = construct_graph_Laplacian(dist, l)\n",
    "\n",
    "    ll, VV = np.linalg.eigh(L) # compute eigendecompositions \n",
    "\n",
    "    idx = ll.argsort() # we need to sort the eigenvalues and vectors \n",
    "    l = ll[idx]\n",
    "    V = VV[:, idx]\n",
    "    \n",
    "    fiedler_vector = V[:,1]\n",
    "    sign_fiedler_vector = np.sign(V[:,1])\n",
    "    \n",
    "    clustering_accuracy_ = calc_clustering_accuracy(435, sign_fiedler_vector, Y)\n",
    "    clustering_accuracy_w_sigma.append(clustering_accuracy_)"
   ]
  },
  {
   "cell_type": "code",
   "execution_count": 214,
   "id": "454c49d8-c616-418b-a573-aa584f46cbbc",
   "metadata": {},
   "outputs": [
    {
     "data": {
      "image/png": "[encoded data removed]",
      "text/plain": [
       "<Figure size 432x288 with 1 Axes>"
      ]
     },
     "metadata": {
      "needs_background": "light"
     },
     "output_type": "display_data"
    }
   ],
   "source": [
    "plt.scatter(sigmas, clustering_accuracy_w_sigma, s=1.5,c='navy')\n",
    "plt.plot(sigmas, clustering_accuracy_w_sigma, c='navy')\n",
    "plt.xlabel('sigma',fontsize=15)\n",
    "plt.ylabel('clustering accuracy',fontsize=15)\n",
    "plt.xticks(fontsize=14); plt.yticks(fontsize=14)\n",
    "# plt.ylim(0,1.)\n",
    "plt.show()"
   ]
  },
  {
   "cell_type": "code",
   "execution_count": 218,
   "id": "a82f98ab-df2f-4e72-b3f9-9064dc9d177e",
   "metadata": {},
   "outputs": [
    {
     "name": "stdout",
     "output_type": "stream",
     "text": [
      "3.1599999999999997\n",
      "0.8804597701149425\n"
     ]
    }
   ],
   "source": [
    "cond_1 = sigmas > 2\n",
    "res = sigmas[cond_1]\n",
    "\n",
    "print(res[np.argmax(clustering_accuracy_w_sigma)])\n",
    "print(np.nanmax(clustering_accuracy_w_sigma))"
   ]
  },
  {
   "cell_type": "markdown",
   "id": "a58ea029-3d64-41aa-b78b-8844027d33a2",
   "metadata": {},
   "source": [
    "#### Task 3 (Semi-supervised Learning)\n",
    "\n",
    "Now consider the unnormalized Laplacian from Step 2 with the optimal parameter 𝜎* that you picked."
   ]
  },
  {
   "cell_type": "code",
   "execution_count": 219,
   "id": "bad1f70b-c0dd-4d72-8852-ee20096448e3",
   "metadata": {},
   "outputs": [],
   "source": [
    "optimal_sigma = res[np.argmax(clustering_accuracy_w_sigma)]"
   ]
  },
  {
   "cell_type": "code",
   "execution_count": 242,
   "id": "8cf745fc-4a69-4da7-aaec-6a0721c657f2",
   "metadata": {},
   "outputs": [],
   "source": [
    "L = construct_graph_Laplacian(dist, optimal_sigma)\n",
    "\n",
    "ll, VV = np.linalg.eigh(L) # compute eigendecompositions \n",
    "idx = ll.argsort() # we need to sort the eigenvalues and vectors \n",
    "l = ll[idx]\n",
    "V = VV[:, idx]"
   ]
  },
  {
   "cell_type": "code",
   "execution_count": 269,
   "id": "4613586a-49f3-4d55-abdc-6b3b55013af0",
   "metadata": {},
   "outputs": [
    {
     "name": "stdout",
     "output_type": "stream",
     "text": [
      "2 5 0.13333333333333333\n",
      "3 5 0.09885057471264368\n",
      "4 5 0.5793103448275863\n",
      "5 5 0.5793103448275863\n",
      "6 5 0.5793103448275863\n",
      "2 10 0.12873563218390804\n",
      "3 10 0.1425287356321839\n",
      "4 10 0.08505747126436781\n",
      "5 10 0.08275862068965517\n",
      "6 10 0.4804597701149425\n",
      "2 20 0.12413793103448276\n",
      "3 20 0.09885057471264368\n",
      "4 20 0.0896551724137931\n",
      "5 20 0.08505747126436781\n",
      "6 20 0.08505747126436781\n",
      "2 40 0.12183908045977011\n",
      "3 40 0.11724137931034483\n",
      "4 40 0.08735632183908046\n",
      "5 40 0.09425287356321839\n",
      "6 40 0.09195402298850575\n"
     ]
    }
   ],
   "source": [
    "clustering_accuracy_list = []; new_m_list = []; new_j_list = []\n",
    "\n",
    "for j_ in J_list:\n",
    "    for m_ in M_list:\n",
    "        submatrix_A = V[0:j_, 0:m_]\n",
    "        b = Y[:j_]\n",
    "        SSLRidge = Ridge(alpha = 1e-8)\n",
    "        SSLRidge.fit(submatrix_A, b)\n",
    "        \n",
    "        beta = np.transpose(SSLRidge.coef_)\n",
    "        A = V[:, 0:m_]\n",
    "        yhat = np.sign(SSLRidge.intercept_ +  np.dot(A, beta))\n",
    "        clustering_accuracy_ = calc_clustering_accuracy(435, yhat, Y)\n",
    "        \n",
    "        clustering_accuracy_list.append(clustering_accuracy_)\n",
    "        print(m_, j_, clustering_accuracy_)\n",
    "        new_m_list.append(m_)\n",
    "        new_j_list.append(j_)"
   ]
  },
  {
   "cell_type": "markdown",
   "id": "cb52808d-d0a4-4940-884e-22fe37a39515",
   "metadata": {},
   "source": [
    "#### Notes from office hours\n",
    "Include an explanation of constructing the similarity graph, graph Laplacians, writing about spectral clustering, how you are using the eigenvectors as your feature map, write about semi-supervised learning a bit (you have some labels but are extending it to the full dataset), talked about linear regression --> cite sources for this, no need to include the equation again but need to mention "
   ]
  },
  {
   "cell_type": "code",
   "execution_count": 297,
   "id": "9400d09c-04e5-4edb-af87-8e3d8dea0c20",
   "metadata": {},
   "outputs": [
    {
     "data": {
      "image/png": "[encoded data removed]",
      "text/plain": [
       "<Figure size 432x288 with 1 Axes>"
      ]
     },
     "metadata": {
      "needs_background": "light"
     },
     "output_type": "display_data"
    }
   ],
   "source": [
    "N = 435 \n",
    "XX = votes[:, 1:None].flatten()\n",
    "\n",
    "ind_y = np.argwhere(XX == 'y')\n",
    "ind_n = np.argwhere(XX == 'n')\n",
    "ind_q = np.argwhere(XX == '?')\n",
    " \n",
    "XX = np.zeros(XX.shape)\n",
    "\n",
    "XX[ind_y] = +1\n",
    "XX[ind_n] = -1\n",
    "XX[ind_q] = 0 \n",
    "\n",
    "XX = XX.reshape(N,16)\n",
    "\n",
    "YY = votes[:, 0]\n",
    "\n",
    "ind_d = np.argwhere(YY == 'democrat')\n",
    "ind_r = np.argwhere(YY == 'republican')\n",
    "\n",
    "Y = np.append(YY[ind_d], YY[ind_r], axis=None)\n",
    "\n",
    "plt.plot(Y,'.')\n",
    "plt.show()"
   ]
  },
  {
   "cell_type": "code",
   "execution_count": null,
   "id": "1378b6ea-986c-4be9-a34a-c167412d4184",
   "metadata": {},
   "outputs": [],
   "source": []
  }
 ],
 "metadata": {
  "kernelspec": {
   "display_name": "firstEnv",
   "language": "python",
   "name": "firstenv"
  },
  "language_info": {
   "codemirror_mode": {
    "name": "ipython",
    "version": 3
   },
   "file_extension": ".py",
   "mimetype": "text/x-python",
   "name": "python",
   "nbconvert_exporter": "python",
   "pygments_lexer": "ipython3",
   "version": "3.8.5"
  }
 },
 "nbformat": 4,
 "nbformat_minor": 5
}
