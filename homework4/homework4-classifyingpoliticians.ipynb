{
 "cells": [
  {
   "cell_type": "markdown",
   "id": "441e0606-4fa4-4fb8-afdf-6de04834d5fb",
   "metadata": {},
   "source": [
    "## Classifying Politicians\n",
    "Your goal is to test the performance of spectral clustering and a simple semi-supervised regression algorithm on the 1984 house voting records data set. Download the data set called house-votes-84.data, and the description house-votes-84.names. The data set consists of voting records of 435 members of the House on 16 bills. There are 267 members of the democratic party and 168 members of the republican party. The voting record of each house member on the 16 bills will be our input x while the corresponding output/class 𝑦 is that members party affiliation (republican or democrat embedded as ±1)."
   ]
  },
  {
   "cell_type": "markdown",
   "id": "dcd0d2c0-92e3-4a75-a8b0-b171e91b95a0",
   "metadata": {},
   "source": [
    "#### Task 1\n",
    "\n",
    "Your first task is to import and preprocess the data set. Construct your output vector y by assigning labels {−1, +1} to members of different parties. Then construct the input vectors x𝑗 corresponding to the voting records of each member by replacing ’y’ votes with +1, ’n’ votes with −1 and ’?’ with 0. You do not need to center and normalize the data set in this case. This leads to a vector y ∈ R435 and input matrix 𝑋 ∈ R435×16. Note that we are using the sklearn convention for our 𝑋 matrix."
   ]
  },
  {
   "cell_type": "code",
   "execution_count": 182,
   "id": "07d3773b-afc4-45ec-b6eb-482d2ab65e82",
   "metadata": {},
   "outputs": [],
   "source": [
    "import numpy as np\n",
    "import matplotlib.pyplot as plt"
   ]
  },
  {
   "cell_type": "code",
   "execution_count": 183,
   "id": "87ec3f4a-2f7e-4fb3-800a-02bcb2af11a5",
   "metadata": {},
   "outputs": [
    {
     "data": {
      "text/plain": [
       "(435, 17)"
      ]
     },
     "execution_count": 183,
     "metadata": {},
     "output_type": "execute_result"
    }
   ],
   "source": [
    "votes = (np.loadtxt('house-votes-84.data', delimiter = ',', dtype =object, unpack=True)).T\n",
    "votes.shape"
   ]
  },
  {
   "cell_type": "code",
   "execution_count": 184,
   "id": "e7785262-9883-4ea2-a634-21b96bf4d032",
   "metadata": {},
   "outputs": [],
   "source": [
    "temp_y = [item[0] for item in votes]\n",
    "\n",
    "d = dict([(y,x+1) for x,y in enumerate(sorted(set(temp_y)))])\n",
    "temp_y = [d[x] for x in temp_y]\n",
    "\n",
    "Y = [-1 if x==2 else x for x in temp_y]"
   ]
  },
  {
   "cell_type": "code",
   "execution_count": 185,
   "id": "46301f60-dbcb-4696-8da0-0fa280600d8d",
   "metadata": {},
   "outputs": [],
   "source": [
    "temp_x = np.array([item[1:] for item in votes])\n",
    "\n",
    "temp_x[ temp_x == '?' ] = 0 \n",
    "temp_x[ temp_x == 'y' ] = 1\n",
    "temp_x[ temp_x == 'n' ] = -1"
   ]
  },
  {
   "cell_type": "code",
   "execution_count": 186,
   "id": "3bbd3b31-a94e-418b-a4c1-1d2c9077fa07",
   "metadata": {},
   "outputs": [
    {
     "data": {
      "text/plain": [
       "(435, 16)"
      ]
     },
     "execution_count": 186,
     "metadata": {},
     "output_type": "execute_result"
    }
   ],
   "source": [
    "temp_x.shape"
   ]
  },
  {
   "cell_type": "markdown",
   "id": "4f715627-ac05-45d4-bd52-e59ec779e765",
   "metadata": {},
   "source": [
    "#### Task 2 (Spectral Clustering)"
   ]
  },
  {
   "cell_type": "code",
   "execution_count": 6,
   "id": "8a6498eb-26c6-48e5-b8f4-fa95e706fe58",
   "metadata": {},
   "outputs": [],
   "source": [
    "import scipy as sp\n",
    "from sklearn.linear_model import Ridge\n",
    "import scipy.spatial"
   ]
  },
  {
   "cell_type": "code",
   "execution_count": 11,
   "id": "5ee81949-b749-4f62-9b28-0810dcc77dec",
   "metadata": {},
   "outputs": [],
   "source": [
    "def eta(t, l):\n",
    "    val = np.exp(-(1/(2*l**2))*t**2 )\n",
    "    return val"
   ]
  },
  {
   "cell_type": "code",
   "execution_count": 12,
   "id": "2bab27b0-6709-4558-990c-cd184f5f577d",
   "metadata": {},
   "outputs": [
    {
     "data": {
      "image/png": "[encoded data removed]",
      "text/plain": [
       "<Figure size 432x288 with 1 Axes>"
      ]
     },
     "metadata": {
      "needs_background": "light"
     },
     "output_type": "display_data"
    }
   ],
   "source": [
    "# construct unnormalized graph Laplacian on features\n",
    "dist = sp.spatial.distance_matrix( temp_x, temp_x )\n",
    "\n",
    "l = 0.05*dist.mean() # l length scale of the kernel \n",
    "W = eta(dist, l)\n",
    "\n",
    "plt.spy(W>= 1e-4)\n",
    "plt.show()"
   ]
  },
  {
   "cell_type": "code",
   "execution_count": 44,
   "id": "9b61f475-803e-4189-b020-dceed1ba7cb8",
   "metadata": {},
   "outputs": [],
   "source": [
    "# compute Laplacian matrices \n",
    "\n",
    "d = np.sum(W, axis=1) # degree vector\n",
    "\n",
    "D = np.diag(d)\n",
    "Ds = np.diag(1/np.sqrt(d))\n",
    "Di = np.diag(1/d)\n",
    "\n",
    "\n",
    "L = D - W # unnormalized"
   ]
  },
  {
   "cell_type": "code",
   "execution_count": 87,
   "id": "93cd2e78-cfe7-43d6-b755-46afd42ac729",
   "metadata": {},
   "outputs": [],
   "source": [
    "# compute eigendecompositions \n",
    "\n",
    "ll, VV = np.linalg.eigh(L)\n",
    "\n",
    "# we need to sort the eigenvalues and vectors \n",
    "\n",
    "idx = ll.argsort()\n",
    "l = ll[idx]\n",
    "V = VV[:, idx]\n",
    "\n",
    "fiedler_vector = V[:,1]\n",
    "sign_fiedler_vector = np.sign(V[:,1])"
   ]
  },
  {
   "cell_type": "code",
   "execution_count": 96,
   "id": "7dd54b74-2b23-4487-8b8f-69984087a6d8",
   "metadata": {},
   "outputs": [
    {
     "data": {
      "text/plain": [
       "0.4"
      ]
     },
     "execution_count": 96,
     "metadata": {},
     "output_type": "execute_result"
    }
   ],
   "source": [
    "difference = sign_fiedler_vector - Y\n",
    "n_zeros = np.count_nonzero(difference==0)\n",
    "clustering_accuracy = n_zeros/435\n",
    "\n",
    "clustering_accuracy"
   ]
  },
  {
   "cell_type": "code",
   "execution_count": 68,
   "id": "a6aa2175-96c0-4d1e-999e-900b99315b2b",
   "metadata": {},
   "outputs": [
    {
     "name": "stderr",
     "output_type": "stream",
     "text": [
      "<ipython-input-68-536fd31e07b6>:5: RuntimeWarning: invalid value encountered in log\n",
      "  ax.plot(np.log(l[1:None]))\n"
     ]
    },
    {
     "data": {
      "image/png": "[encoded data removed]",
      "text/plain": [
       "<Figure size 432x432 with 1 Axes>"
      ]
     },
     "metadata": {
      "needs_background": "light"
     },
     "output_type": "display_data"
    }
   ],
   "source": [
    "# plot eigenvalues \n",
    "fig, ax = plt.subplots(1,1, figsize=(6,6))\n",
    "ax.plot(np.log(l[1:None]))\n",
    "ax.set_title('Unnormalized eigenvalues')\n",
    "ax.set_xlabel('index')\n",
    "ax.set_ylabel('$\\lambda$')\n",
    "plt.show()"
   ]
  },
  {
   "cell_type": "markdown",
   "id": "531a2f98-cb7b-4f7a-a712-3b3c6e5b33e0",
   "metadata": {},
   "source": [
    "Change the parameter 𝜎 in the range (0, 4] and plot accuracy as a function of 𝜎. Let 𝜎* denote the optimal variance parameter achieving maximum clustering accuracy. Discuss your findings."
   ]
  },
  {
   "cell_type": "code",
   "execution_count": 98,
   "id": "766bc8fe-3d8b-4d38-bfb3-191c42aefd0a",
   "metadata": {},
   "outputs": [],
   "source": [
    "clustering_accuracy_w_sigma = []\n",
    "sigmas = np.arange(1,5,0.01)\n",
    "\n",
    "for l in sigmas:\n",
    "    W = eta(dist, l)\n",
    "    D = np.diag(np.sum(W,axis=1))\n",
    "    L = D - W \n",
    "\n",
    "    ll, VV = np.linalg.eigh(L) # compute eigendecompositions \n",
    "\n",
    "    # we need to sort the eigenvalues and vectors \n",
    "    idx = ll.argsort()\n",
    "    l = ll[idx]\n",
    "    V = VV[:, idx]\n",
    "    \n",
    "    fiedler_vector = V[:,1]\n",
    "    \n",
    "    sign_fiedler_vector = np.sign(V[:,1])\n",
    "\n",
    "    Y = np.asarray(Y)\n",
    "    \n",
    "    difference = sign_fiedler_vector - Y\n",
    "    n_zeros = np.count_nonzero(difference==0)\n",
    "    clustering_accuracy = n_zeros/435\n",
    "    clustering_accuracy_w_sigma.append(clustering_accuracy)"
   ]
  },
  {
   "cell_type": "code",
   "execution_count": 117,
   "id": "454c49d8-c616-418b-a573-aa584f46cbbc",
   "metadata": {},
   "outputs": [
    {
     "data": {
      "image/png": "[encoded data removed]",
      "text/plain": [
       "<Figure size 432x288 with 1 Axes>"
      ]
     },
     "metadata": {
      "needs_background": "light"
     },
     "output_type": "display_data"
    }
   ],
   "source": [
    "plt.scatter(sigmas, clustering_accuracy_w_sigma, s=1.5,c='navy')\n",
    "plt.xlabel('sigma',fontsize=15)\n",
    "plt.ylabel('clustering accuracy',fontsize=15)\n",
    "plt.xticks(fontsize=14); plt.yticks(fontsize=14)\n",
    "plt.ylim(0,1.)\n",
    "plt.show()"
   ]
  },
  {
   "cell_type": "code",
   "execution_count": 112,
   "id": "a82f98ab-df2f-4e72-b3f9-9064dc9d177e",
   "metadata": {},
   "outputs": [
    {
     "name": "stdout",
     "output_type": "stream",
     "text": [
      "1.1700000000000002\n",
      "0.8804597701149425\n"
     ]
    }
   ],
   "source": [
    "print(sigmas[np.argmax(clustering_accuracy_w_sigma)])\n",
    "print(np.nanmax(clustering_accuracy_w_sigma))"
   ]
  },
  {
   "cell_type": "markdown",
   "id": "a58ea029-3d64-41aa-b78b-8844027d33a2",
   "metadata": {},
   "source": [
    "#### Task 3 (Semi-supervised Learning)\n",
    "\n",
    "Now consider the unnormalized Laplacian from Step 2 with the optimal parameter 𝜎* that you picked."
   ]
  },
  {
   "cell_type": "code",
   "execution_count": 473,
   "id": "79c41b86-99ae-41e4-b620-b0d3afe10f46",
   "metadata": {},
   "outputs": [],
   "source": [
    "def return_subset( dig1, dig2, XX, YY ):\n",
    "#function to take subset of data set\n",
    "    indx1 = np.argwhere( YY == dig1 )\n",
    "    indx2 = np.argwhere( YY == dig2 )\n",
    "    indx = np.append(indx1, indx2, axis=0)\n",
    "    indx = np.random.permutation(indx.flatten())\n",
    "\n",
    "    XX_sub = XX[indx, :]\n",
    "    YY_sub = YY[indx]\n",
    "\n",
    "    b = np.zeros( (len(indx), 2))\n",
    "    for j in range(len(YY_sub)):\n",
    "        if YY_sub[j] == dig1:\n",
    "            b[j,:] = [1, 0 ]\n",
    "        elif YY_sub[j] == dig2:\n",
    "            b[j, :] = [0, 1]\n",
    "    return XX_sub, YY_sub, b"
   ]
  },
  {
   "cell_type": "code",
   "execution_count": 427,
   "id": "4a1919d0-3358-4939-9f05-00c82e8c8e09",
   "metadata": {},
   "outputs": [],
   "source": [
    "digit1 = -1; digit2 = 1\n",
    "\n",
    "M = 10; J = 3\n",
    "\n",
    "X, Y, hidden_labels = return_subset( digit1, digit2, temp_x, np.asarray(Y) )\n",
    "labels = hidden_labels[0:M, :]"
   ]
  },
  {
   "cell_type": "code",
   "execution_count": 428,
   "id": "bad1f70b-c0dd-4d72-8852-ee20096448e3",
   "metadata": {},
   "outputs": [],
   "source": [
    "optimal_sigma = sigmas[np.argmax(clustering_accuracy_w_sigma)]"
   ]
  },
  {
   "cell_type": "code",
   "execution_count": 429,
   "id": "ea012e35-510b-4ee9-8c6d-0418361d3226",
   "metadata": {},
   "outputs": [
    {
     "data": {
      "image/png": "[encoded data removed]",
      "text/plain": [
       "<Figure size 432x288 with 1 Axes>"
      ]
     },
     "metadata": {
      "needs_background": "light"
     },
     "output_type": "display_data"
    }
   ],
   "source": [
    "W = eta(dist, optimal_sigma)\n",
    "\n",
    "plt.spy(W>= 1e-4)\n",
    "plt.show()"
   ]
  },
  {
   "cell_type": "code",
   "execution_count": 430,
   "id": "8ca97114-a380-4e1d-ac60-ecd4a48f072c",
   "metadata": {},
   "outputs": [],
   "source": [
    "# compute Laplacian matrices \n",
    "d = np.sum(W, axis=1) # degree vector\n",
    "D = np.diag(d)\n",
    "Ds = np.diag(1/np.sqrt(d))\n",
    "Di = np.diag(1/d)\n",
    "\n",
    "L = D - W # unnormalized\n",
    "\n",
    "# compute eigendecompositions \n",
    "\n",
    "ll, VV = np.linalg.eigh(L)\n",
    "\n",
    "# we need to sort the eigenvalues and vectors \n",
    "\n",
    "idx = ll.argsort()\n",
    "l = ll[idx]\n",
    "V = VV[:, idx]"
   ]
  },
  {
   "cell_type": "code",
   "execution_count": 435,
   "id": "998c1bc5-3ed1-43da-9931-11f5dec3d7ee",
   "metadata": {},
   "outputs": [
    {
     "name": "stdout",
     "output_type": "stream",
     "text": [
      "(3, 10)\n",
      "(10, 3)\n",
      "(3, 2)\n",
      "(10, 2)\n"
     ]
    }
   ],
   "source": [
    "# might be unnecessary here\n",
    "vectors = []\n",
    "for i in range(M):\n",
    "    vectors.append(V[:,i])\n",
    "    \n",
    "vectors = np.asarray(vectors).T\n",
    "\n",
    "b = labels[:J]\n",
    "\n",
    "matrix_A = vectors[0:J, 0:M] #Given an integer 𝐽 ≥ 1 consider the submatrix 𝐴 ∈ R 𝐽×𝑀\n",
    "print(matrix_A.shape)\n",
    "print(Vp.shape)\n",
    "print(b.shape)\n",
    "print(labels.shape)"
   ]
  },
  {
   "cell_type": "code",
   "execution_count": 469,
   "id": "73c64b6b-5e67-480b-bf78-59c197f365a2",
   "metadata": {},
   "outputs": [
    {
     "name": "stdout",
     "output_type": "stream",
     "text": [
      "10\n",
      "[[ 1.84432880e-13 -1.84432880e-13]\n",
      " [ 1.42324913e+01 -1.42324913e+01]\n",
      " [-1.45727818e-01  1.45727818e-01]\n",
      " [-1.93325797e+01  1.93325797e+01]\n",
      " [-6.53059017e+00  6.53059017e+00]\n",
      " [-9.21987920e+00  9.21987920e+00]\n",
      " [-5.18061880e+00  5.18061880e+00]\n",
      " [-1.60153805e+01  1.60153805e+01]\n",
      " [ 3.45534221e+00 -3.45534221e+00]\n",
      " [-3.05429227e+01  3.05429227e+01]]\n"
     ]
    }
   ],
   "source": [
    "SSLRidge = Ridge(alpha = 1e-8)\n",
    "\n",
    "SSLRidge.fit( matrix_A, b )\n",
    "\n",
    "beta = np.zeros((10,2)) # we have three classes so beta is now a matrix\n",
    "# # print(beta.shape)\n",
    "beta[0, :] = SSLRidge.intercept_\n",
    "len_to_use = np.transpose(SSLRidge.coef_).shape[0]\n",
    "print(len_to_use)\n",
    "beta[0:(len_to_use+1), :] = np.transpose(SSLRidge.coef_)\n",
    "print(beta)"
   ]
  },
  {
   "cell_type": "code",
   "execution_count": 470,
   "id": "90fce7b4-a6c8-4dbf-b1bf-15d8b73da482",
   "metadata": {},
   "outputs": [],
   "source": [
    "labels_pred = np.dot(A, beta)\n",
    "classes_pred = np.argmax(labels_pred, axis= 1)"
   ]
  },
  {
   "cell_type": "code",
   "execution_count": 471,
   "id": "d04f646f-a63c-4445-8131-c5c65cfd7361",
   "metadata": {},
   "outputs": [
    {
     "name": "stdout",
     "output_type": "stream",
     "text": [
      "(435,)\n",
      "(435, 2)\n",
      "(435, 2)\n"
     ]
    },
    {
     "data": {
      "text/plain": [
       "Text(0.5, 1.0, 'Predicted labels')"
      ]
     },
     "execution_count": 471,
     "metadata": {},
     "output_type": "execute_result"
    },
    {
     "data": {
      "image/png": "[encoded data removed]",
      "text/plain": [
       "<Figure size 360x720 with 2 Axes>"
      ]
     },
     "metadata": {
      "needs_background": "light"
     },
     "output_type": "display_data"
    }
   ],
   "source": [
    "# threshold predicted labels to one-hot format\n",
    "labels_pred_max = np.amax(labels_pred, axis=1)\n",
    "\n",
    "print(labels_pred_max.shape)\n",
    "\n",
    "import numpy.matlib\n",
    "\n",
    "print(labels_pred.shape)\n",
    "labels_pred_max = np.transpose(np.matlib.repmat(labels_pred_max, 2, 1))\n",
    "print(labels_pred_max.shape)\n",
    "\n",
    "labels_pred_thresholded = (labels_pred == labels_pred_max).astype(float)\n",
    "fig, ax = plt.subplots(1, 2, figsize=(5, 10))\n",
    "\n",
    "ax[0].matshow(hidden_labels[0:30, :])\n",
    "ax[0].set_title('True labels')\n",
    "\n",
    "ax[1].matshow(labels_pred_thresholded[0:30, :])\n",
    "ax[1].set_title('Predicted labels')"
   ]
  },
  {
   "cell_type": "code",
   "execution_count": 472,
   "id": "2e4bd0bc-ec59-469d-9b17-bb2360222a8c",
   "metadata": {},
   "outputs": [
    {
     "name": "stdout",
     "output_type": "stream",
     "text": [
      "(435, 2)\n",
      "(435, 2)\n",
      "mislablled ratio: 0.4896551724137931\n"
     ]
    }
   ],
   "source": [
    "err = 0\n",
    "\n",
    "print(hidden_labels.shape)\n",
    "print(labels_pred_thresholded.shape)\n",
    "\n",
    "\n",
    "for i in range(len(hidden_labels)):\n",
    "  # count number of mislabelled images \n",
    "  err+= 1- np.array_equal( hidden_labels[i,:], labels_pred_thresholded[i, :])\n",
    "\n",
    "mislabelled_ratio = err/len(hidden_labels)\n",
    "\n",
    "print('mislablled ratio:', mislabelled_ratio)"
   ]
  },
  {
   "cell_type": "code",
   "execution_count": 457,
   "id": "df42fc4d-0568-4ec5-9cd2-472bc2332eb1",
   "metadata": {},
   "outputs": [
    {
     "data": {
      "text/plain": [
       "(10, 2)"
      ]
     },
     "execution_count": 457,
     "metadata": {},
     "output_type": "execute_result"
    }
   ],
   "source": [
    "np.transpose(SSLRidge.coef_).shape"
   ]
  },
  {
   "cell_type": "code",
   "execution_count": 436,
   "id": "3529afe9-e6de-43d1-b038-7850402a9917",
   "metadata": {},
   "outputs": [
    {
     "name": "stdout",
     "output_type": "stream",
     "text": [
      "(10, 3)\n"
     ]
    }
   ],
   "source": [
    "Vp = V[0:M, 0:J]\n",
    "print(Vp.shape)"
   ]
  },
  {
   "cell_type": "code",
   "execution_count": 421,
   "id": "f8b413b0-f3e8-4f78-b9e9-1a4914690df4",
   "metadata": {},
   "outputs": [
    {
     "name": "stdout",
     "output_type": "stream",
     "text": [
      "(10, 2)\n",
      "[[-4.58965944e+00  5.58965944e+00]\n",
      " [-2.30016153e-07  2.30016153e-07]\n",
      " [-4.96793590e+01  4.96793590e+01]\n",
      " [-1.86784507e+03  1.86784507e+03]\n",
      " [ 0.00000000e+00  0.00000000e+00]\n",
      " [ 0.00000000e+00  0.00000000e+00]\n",
      " [ 0.00000000e+00  0.00000000e+00]\n",
      " [ 0.00000000e+00  0.00000000e+00]\n",
      " [ 0.00000000e+00  0.00000000e+00]\n",
      " [ 0.00000000e+00  0.00000000e+00]]\n"
     ]
    }
   ],
   "source": [
    "# Ridge regression on labelled set \n",
    "SSLRidge = Ridge(alpha = 1e-8)\n",
    "\n",
    "SSLRidge.fit( Vp, labels )\n",
    "\n",
    "beta = np.zeros((K,2)) # we have three classes so beta is now a matrix\n",
    "print(beta.shape)\n",
    "beta[0, :] = SSLRidge.intercept_\n",
    "len_to_use = np.transpose(SSLRidge.coef_).shape[0]\n",
    "beta[1:(len_to_use+1), :] = np.transpose(SSLRidge.coef_)\n",
    "print(beta)"
   ]
  },
  {
   "cell_type": "code",
   "execution_count": 462,
   "id": "aa6c615a-1133-4250-a746-165c6e28edbf",
   "metadata": {},
   "outputs": [
    {
     "name": "stdout",
     "output_type": "stream",
     "text": [
      "(435, 10)\n"
     ]
    }
   ],
   "source": [
    "A = V[:, 0:K]\n",
    "print(A.shape)"
   ]
  },
  {
   "cell_type": "code",
   "execution_count": 423,
   "id": "3ae30716-66a0-4483-b11f-32c6167d4853",
   "metadata": {},
   "outputs": [],
   "source": [
    "labels_pred = np.dot(A, beta)\n",
    "classes_pred = np.argmax(labels_pred, axis= 1)"
   ]
  },
  {
   "cell_type": "code",
   "execution_count": 424,
   "id": "4b41ece0-cf0d-4761-888b-9cd2c699c8ca",
   "metadata": {},
   "outputs": [
    {
     "name": "stdout",
     "output_type": "stream",
     "text": [
      "(435,)\n",
      "(435, 2)\n",
      "(435, 2)\n"
     ]
    },
    {
     "data": {
      "text/plain": [
       "Text(0.5, 1.0, 'Predicted labels')"
      ]
     },
     "execution_count": 424,
     "metadata": {},
     "output_type": "execute_result"
    },
    {
     "data": {
      "image/png": "[encoded data removed]",
      "text/plain": [
       "<Figure size 360x720 with 2 Axes>"
      ]
     },
     "metadata": {
      "needs_background": "light"
     },
     "output_type": "display_data"
    }
   ],
   "source": [
    "# threshold predicted labels to one-hot format\n",
    "labels_pred_max = np.amax(labels_pred, axis=1)\n",
    "\n",
    "print(labels_pred_max.shape)\n",
    "\n",
    "import numpy.matlib\n",
    "\n",
    "print(labels_pred.shape)\n",
    "labels_pred_max = np.transpose(np.matlib.repmat(labels_pred_max, 2, 1))\n",
    "print(labels_pred_max.shape)\n",
    "\n",
    "labels_pred_thresholded = (labels_pred == labels_pred_max).astype(float)\n",
    "fig, ax = plt.subplots(1, 2, figsize=(5, 10))\n",
    "\n",
    "ax[0].matshow(hidden_labels[0:30, :])\n",
    "ax[0].set_title('True labels')\n",
    "\n",
    "ax[1].matshow(labels_pred_thresholded[0:30, :])\n",
    "ax[1].set_title('Predicted labels')"
   ]
  },
  {
   "cell_type": "code",
   "execution_count": 425,
   "id": "7672c18f-7b84-4c6a-8fa6-4952004ce03a",
   "metadata": {},
   "outputs": [
    {
     "name": "stdout",
     "output_type": "stream",
     "text": [
      "(435, 2)\n",
      "(435, 2)\n",
      "mislablled ratio: 0.4160919540229885\n"
     ]
    }
   ],
   "source": [
    "err = 0\n",
    "\n",
    "print(hidden_labels.shape)\n",
    "print(labels_pred_thresholded.shape)\n",
    "\n",
    "\n",
    "for i in range(len(hidden_labels)):\n",
    "  # count number of mislabelled images \n",
    "  err+= 1- np.array_equal( hidden_labels[i,:], labels_pred_thresholded[i, :])\n",
    "\n",
    "mislabelled_ratio = err/len(hidden_labels)\n",
    "\n",
    "print('mislablled ratio:', mislabelled_ratio)"
   ]
  },
  {
   "cell_type": "code",
   "execution_count": 398,
   "id": "45cc1e45-a801-4667-9b2a-30cdf7a9a20b",
   "metadata": {},
   "outputs": [],
   "source": [
    "## --------------------------------------------------------------------------------------------------\n",
    "## miscellaneous notes\n",
    "## --------------------------------------------------------------------------------------------------\n",
    "\n",
    "# M = 2, J = 10\n",
    "# dem = np.where(labels == -1)\n",
    "# rep = np.where(labels == 1)\n",
    "\n",
    "# ax.scatter( V[dem,1]/np.abs(V[:,1]).max(), V[dem,2]/np.abs(V[:,2]).max(), V[dem,3]/np.abs(V[:,3]).max(),\n",
    "#           label = 'democrat')\n",
    "# ax.scatter( V[rep,1]/np.abs(V[:,1]).max(), V[rep,2]/np.abs(V[:,2]).max(), V[rep,3]/np.abs(V[:,3]).max() , \n",
    "#           'r0', label = 'republican')"
   ]
  },
  {
   "cell_type": "code",
   "execution_count": null,
   "id": "397986d6-7990-487b-af6a-42f3a7066b74",
   "metadata": {},
   "outputs": [],
   "source": []
  }
 ],
 "metadata": {
  "kernelspec": {
   "display_name": "firstEnv",
   "language": "python",
   "name": "firstenv"
  },
  "language_info": {
   "codemirror_mode": {
    "name": "ipython",
    "version": 3
   },
   "file_extension": ".py",
   "mimetype": "text/x-python",
   "name": "python",
   "nbconvert_exporter": "python",
   "pygments_lexer": "ipython3",
   "version": "3.8.5"
  }
 },
 "nbformat": 4,
 "nbformat_minor": 5
}
